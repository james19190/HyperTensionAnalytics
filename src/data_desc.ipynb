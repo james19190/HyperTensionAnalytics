{
 "cells": [
  {
   "cell_type": "markdown",
   "metadata": {},
   "source": [
    "#### Load Data\n"
   ]
  },
  {
   "cell_type": "code",
   "execution_count": 1,
   "metadata": {},
   "outputs": [],
   "source": [
    "import pandas as pd\n",
    "\n",
    "# Load Datasets (본인 파일 경로에 맞게 수정!)\n",
    "hypertension_df = pd.read_csv('../data/DM_data.csv')\n",
    "diabetes_df = pd.read_csv('../data/Final_HT_data.csv')\n",
    "\n",
    "# Dataframe describe\n",
    "print(\"Hypertension Dataset:\")\n",
    "display(hypertension_df.head())\n",
    "print(\"Diabetes Dataset:\")\n",
    "display(diabetes_df.head())\n"
   ]
  }
 ],
 "metadata": {
  "kernelspec": {
   "display_name": "Python 3",
   "language": "python",
   "name": "python3"
  },
  "language_info": {
   "codemirror_mode": {
    "name": "ipython",
    "version": 3
   },
   "file_extension": ".py",
   "mimetype": "text/x-python",
   "name": "python",
   "nbconvert_exporter": "python",
   "pygments_lexer": "ipython3",
   "version": "3.12.3"
  }
 },
 "nbformat": 4,
 "nbformat_minor": 2
}
