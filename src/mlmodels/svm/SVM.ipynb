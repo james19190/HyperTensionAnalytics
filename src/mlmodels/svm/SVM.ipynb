{
  "nbformat": 4,
  "nbformat_minor": 0,
  "metadata": {
    "colab": {
      "provenance": []
    },
    "kernelspec": {
      "name": "python3",
      "display_name": "Python 3"
    },
    "language_info": {
      "name": "python"
    }
  },
  "cells": [
    {
      "cell_type": "code",
      "execution_count": null,
      "metadata": {
        "id": "AODb1E5JTZEG"
      },
      "outputs": [],
      "source": [
        "from google.colab import drive\n",
        "drive.mount('/content/drive')"
      ]
    },
    {
      "cell_type": "code",
      "source": [
        "import pandas as pd\n",
        "import numpy as np\n",
        "from time import time\n",
        "\n",
        "import matplotlib.pyplot as plt\n",
        "import seaborn as sns\n",
        "\n",
        "from sklearn.preprocessing import OneHotEncoder\n",
        "from sklearn.preprocessing import StandardScaler\n",
        "\n",
        "from sklearn.model_selection import train_test_split\n",
        "from imblearn.under_sampling import RandomUnderSampler\n",
        "\n",
        "from sklearn.metrics import confusion_matrix, accuracy_score, recall_score, precision_score, f1_score, roc_auc_score, roc_curve, auc\n",
        "\n",
        "import torch\n",
        "import torch.nn as nn\n",
        "import torch.optim as optim\n",
        "from torch.utils.data import DataLoader, TensorDataset"
      ],
      "metadata": {
        "id": "gxYflaXWYeRu"
      },
      "execution_count": null,
      "outputs": []
    },
    {
      "cell_type": "markdown",
      "source": [
        "Preprocess에 이어서 실행"
      ],
      "metadata": {
        "id": "EgtHO2sOcwPt"
      }
    },
    {
      "cell_type": "code",
      "source": [
        "from sklearn.model_selection import train_test_split\n",
        "from sklearn.svm import SVC\n",
        "from sklearn.metrics import classification_report, accuracy_score\n",
        "import pandas as pd\n",
        "\n",
        "X_train = train_balanced.drop(columns=['HY_YN'])\n",
        "y_train = train_balanced['HY_YN']\n",
        "X_test = test_df.drop(columns=['HY_YN'])\n",
        "y_test = test_df['HY_YN']\n",
        "\n",
        "svm_model = SVC(kernel='rbf', class_weight='balanced', random_state=42)\n",
        "\n",
        "svm_model.fit(X_train, y_train)\n",
        "\n",
        "y_pred = svm_model.predict(X_test)\n",
        "\n",
        "# 성능 평가\n",
        "accuracy = accuracy_score(y_test, y_pred)\n",
        "print(f\"Accuracy: {accuracy:.4f}\")\n",
        "print(\"Classification Report:\\n\", classification_report(y_test, y_pred))"
      ],
      "metadata": {
        "id": "G_6dlZldbR3c"
      },
      "execution_count": null,
      "outputs": []
    },
    {
      "cell_type": "code",
      "source": [
        "from sklearn.model_selection import train_test_split\n",
        "from sklearn.svm import SVC\n",
        "from sklearn.metrics import classification_report, accuracy_score\n",
        "import pandas as pd\n",
        "\n",
        "X_train = train_balanced.drop(columns=['HY_YN'])\n",
        "y_train = train_balanced['HY_YN']\n",
        "X_test = test_df.drop(columns=['HY_YN'])\n",
        "y_test = test_df['HY_YN']\n",
        "\n",
        "svm_model = SVC(kernel='linear', class_weight='balanced', random_state=42)\n",
        "\n",
        "svm_model.fit(X_train, y_train)\n",
        "\n",
        "y_pred = svm_model.predict(X_test)\n",
        "\n",
        "# 성능 평가\n",
        "accuracy = accuracy_score(y_test, y_pred)\n",
        "print(f\"Accuracy: {accuracy:.4f}\")\n",
        "print(\"Classification Report:\\n\", classification_report(y_test, y_pred))"
      ],
      "metadata": {
        "id": "5OKnospFbTj0"
      },
      "execution_count": null,
      "outputs": []
    },
    {
      "cell_type": "code",
      "source": [
        "from sklearn.model_selection import train_test_split\n",
        "from sklearn.svm import SVC\n",
        "from sklearn.metrics import classification_report, accuracy_score\n",
        "import pandas as pd\n",
        "\n",
        "X_train = train_balanced.drop(columns=['HY_YN'])\n",
        "y_train = train_balanced['HY_YN']\n",
        "X_test = test_df.drop(columns=['HY_YN'])\n",
        "y_test = test_df['HY_YN']\n",
        "\n",
        "svm_model = SVC(kernel='poly', class_weight='balanced', random_state=42)\n",
        "\n",
        "svm_model.fit(X_train, y_train)\n",
        "\n",
        "y_pred = svm_model.predict(X_test)\n",
        "\n",
        "# 성능 평가\n",
        "accuracy = accuracy_score(y_test, y_pred)\n",
        "print(f\"Accuracy: {accuracy:.4f}\")\n",
        "print(\"Classification Report:\\n\", classification_report(y_test, y_pred))"
      ],
      "metadata": {
        "id": "IS4siDkzbVg6"
      },
      "execution_count": null,
      "outputs": []
    },
    {
      "cell_type": "code",
      "source": [
        "from sklearn.model_selection import train_test_split\n",
        "from sklearn.svm import SVC\n",
        "from sklearn.metrics import classification_report, accuracy_score\n",
        "import pandas as pd\n",
        "\n",
        "X_train = train_balanced.drop(columns=['HY_YN'])\n",
        "y_train = train_balanced['HY_YN']\n",
        "X_test = test_df.drop(columns=['HY_YN'])\n",
        "y_test = test_df['HY_YN']\n",
        "\n",
        "svm_model = SVC(kernel='sigmoid', class_weight='balanced', random_state=42)\n",
        "\n",
        "svm_model.fit(X_train, y_train)\n",
        "\n",
        "y_pred = svm_model.predict(X_test)\n",
        "\n",
        "# 성능 평가\n",
        "accuracy = accuracy_score(y_test, y_pred)\n",
        "print(f\"Accuracy: {accuracy:.4f}\")\n",
        "print(\"Classification Report:\\n\", classification_report(y_test, y_pred))"
      ],
      "metadata": {
        "id": "g1jsPfAcbgRa"
      },
      "execution_count": null,
      "outputs": []
    },
    {
      "cell_type": "code",
      "source": [
        "from sklearn.model_selection import train_test_split\n",
        "from sklearn.svm import SVC\n",
        "from sklearn.metrics import classification_report, accuracy_score, confusion_matrix\n",
        "import numpy as np\n",
        "import pandas as pd\n",
        "\n",
        "# Laplace Linear 커널 정의\n",
        "def laplace_linear_kernel(X, Y, sigma=1.0):\n",
        "    \"\"\"\n",
        "    Laplace Linear Kernel Function\n",
        "    K(x, y) = exp(-||x - y||_1 / sigma)\n",
        "    \"\"\"\n",
        "    kernel = np.zeros((X.shape[0], Y.shape[0]))\n",
        "    for i, x in enumerate(X):\n",
        "        kernel[i, :] = np.exp(-np.sum(np.abs(x - Y), axis=1) / sigma)\n",
        "    return kernel\n",
        "\n",
        "X_train = train_balanced.drop(columns=['HY_YN'])\n",
        "y_train = train_balanced['HY_YN']\n",
        "X_test = test_df.drop(columns=['HY_YN'])\n",
        "y_test = test_df['HY_YN']\n",
        "\n",
        "svc = SVC(kernel=lambda X, Y: laplace_linear_kernel(X, Y, sigma=1.0))\n",
        "\n",
        "svc.fit(X_train, y_train)\n",
        "\n",
        "y_pred = svc.predict(X_test)\n",
        "\n",
        "aaccuracy = accuracy_score(y_test, y_pred)\n",
        "print(f\"Accuracy: {accuracy:.4f}\")\n",
        "print(\"Classification Report:\\n\", classification_report(y_test, y_pred))"
      ],
      "metadata": {
        "id": "u0yjVXFubjHc"
      },
      "execution_count": null,
      "outputs": []
    },
    {
      "cell_type": "code",
      "source": [
        "from sklearn.model_selection import train_test_split\n",
        "from sklearn.svm import SVC\n",
        "from sklearn.metrics import classification_report, accuracy_score, confusion_matrix\n",
        "import numpy as np\n",
        "import pandas as pd\n",
        "from scipy.special import jv\n",
        "\n",
        "def bessel_kernel(X, Y, nu=1.0):\n",
        "    \"\"\"\n",
        "    Bessel Kernel Function\n",
        "    K(x, y) = J_v(||x - y||)\n",
        "    \"\"\"\n",
        "    kernel = np.zeros((X.shape[0], Y.shape[0]))\n",
        "    for i, x in enumerate(X):\n",
        "        dists = np.linalg.norm(x - Y, axis=1)\n",
        "        kernel[i, :] = jv(nu, dists)\n",
        "    return kernel\n",
        "\n",
        "X_train = train_balanced.drop(columns=['HY_YN'])\n",
        "y_train = train_balanced['HY_YN']\n",
        "X_test = test_df.drop(columns=['HY_YN'])\n",
        "y_test = test_df['HY_YN']\n",
        "\n",
        "svc = SVC(kernel=lambda X, Y: bessel_kernel(X, Y, nu=1.0))\n",
        "\n",
        "svc.fit(X_train, y_train)\n",
        "\n",
        "y_pred = svc.predict(X_test)\n",
        "\n",
        "# 정확도 출력\n",
        "accuracy = accuracy_score(y_test, y_pred)\n",
        "print(f\"Test Accuracy: {accuracy:.2f}\")\n",
        "\n",
        "aaccuracy = accuracy_score(y_test, y_pred)\n",
        "print(f\"Accuracy: {accuracy:.4f}\")\n",
        "print(\"Classification Report:\\n\", classification_report(y_test, y_pred))"
      ],
      "metadata": {
        "id": "Ea8094Nubk2A"
      },
      "execution_count": null,
      "outputs": []
    },
    {
      "cell_type": "code",
      "source": [
        "from sklearn.model_selection import train_test_split\n",
        "from sklearn.svm import SVC\n",
        "from sklearn.metrics import classification_report, accuracy_score, confusion_matrix\n",
        "import numpy as np\n",
        "import pandas as pd\n",
        "from scipy.special import jv\n",
        "\n",
        "def anova_kernel(X, Y, sigma=1.0, d=2):\n",
        "    \"\"\"\n",
        "    ANOVA Kernel Function\n",
        "    K(x, y) = sum(exp(-sigma * (x_i - y_i)^2))^d\n",
        "    \"\"\"\n",
        "    kernel = np.zeros((X.shape[0], Y.shape[0]))\n",
        "    for i, x in enumerate(X):\n",
        "        kernel[i, :] = np.sum(np.exp(-sigma * (x - Y) ** 2), axis=1) ** d\n",
        "    return kernel\n",
        "\n",
        "\n",
        "X_train = train_balanced.drop(columns=['HY_YN'])\n",
        "y_train = train_balanced['HY_YN']\n",
        "X_test = test_df.drop(columns=['HY_YN'])\n",
        "y_test = test_df['HY_YN']\n",
        "\n",
        "svc = SVC(kernel=lambda X, Y: anova_kernel(X, Y, nu=1.0))\n",
        "\n",
        "svc.fit(X_train, y_train)\n",
        "\n",
        "y_pred = svc.predict(X_test)\n",
        "\n",
        "# 정확도 출력\n",
        "accuracy = accuracy_score(y_test, y_pred)\n",
        "print(f\"Test Accuracy: {accuracy:.2f}\")\n",
        "\n",
        "aaccuracy = accuracy_score(y_test, y_pred)\n",
        "print(f\"Accuracy: {accuracy:.4f}\")\n",
        "print(\"Classification Report:\\n\", classification_report(y_test, y_pred))"
      ],
      "metadata": {
        "id": "NH9SY3KTboEP"
      },
      "execution_count": null,
      "outputs": []
    }
  ]
}